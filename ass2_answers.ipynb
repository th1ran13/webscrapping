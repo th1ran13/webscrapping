{
  "nbformat": 4,
  "nbformat_minor": 0,
  "metadata": {
    "colab": {
      "provenance": [],
      "collapsed_sections": [],
      "include_colab_link": true
    },
    "kernelspec": {
      "name": "python3",
      "display_name": "Python 3"
    },
    "language_info": {
      "name": "python"
    }
  },
  "cells": [
    {
      "cell_type": "markdown",
      "metadata": {
        "id": "view-in-github",
        "colab_type": "text"
      },
      "source": [
        "<a href=\"https://colab.research.google.com/github/th1ran13/webscrapping/blob/main/ass2_answers.ipynb\" target=\"_parent\"><img src=\"https://colab.research.google.com/assets/colab-badge.svg\" alt=\"Open In Colab\"/></a>"
      ]
    },
    {
      "cell_type": "code",
      "source": [
        "from google.colab import drive\n",
        "drive.mount('/content/drive')"
      ],
      "metadata": {
        "id": "2Brbn_bNv2aL"
      },
      "execution_count": null,
      "outputs": []
    },
    {
      "cell_type": "code",
      "execution_count": null,
      "metadata": {
        "colab": {
          "base_uri": "https://localhost:8080/"
        },
        "id": "tmnWVjo54aYo",
        "outputId": "1aa77b1a-067e-469f-c8cc-2767501edee8"
      },
      "outputs": [
        {
          "output_type": "stream",
          "name": "stdout",
          "text": [
            "<Response [403]>\n"
          ]
        }
      ],
      "source": [
        "import requests\n",
        "import lxml\n",
        "from bs4 import BeautifulSoup\n",
        "from xlwt import *\n",
        "\n",
        "#create the worksheet table\n",
        "\n",
        "workbook = Workbook(encoding = 'utf-8')\n",
        "table = workbook.add_sheet('data')\n",
        "#Create the header of each column in the first row.\n",
        "table.write(0, 0, 'Product_number')\n",
        "table.write(0, 1, 'Product_Name')\n",
        "table.write(0, 2, 'New_Price')\n",
        "table.write(0, 3, 'Old_Price')\n",
        "table.write(0, 4, 'discount')\n",
        "\n",
        "line = 1\n",
        "\n",
        "url = \"https://www.guessfactory.com/us/en/sale/women/view-all\"\n",
        "headers = {'User-Agent': 'Mozilla/5.0 (iPad; CPU OS 12_2 like Mac OS X) AppleWebKit/605.1.15 (KHTML, like Gecko) Mobile/15E148'}\n",
        "\n",
        "f = requests.get(url, headers = headers)\n",
        "movies_lst = []\n",
        "soup = BeautifulSoup(f.content, 'html.parser')   \n",
        "# print(soup)  #<--- this will print all the html and xml content in particular web page\n",
        "\n",
        "movies = soup.find_all('div', {'class': 'product-tile__tile-body'})\n",
        "print(movies)   #<--- this will print all the titles of movies\n",
        "\n",
        "# # The BeautifulSoup library has three methods to find elements:\n",
        "# # findall() :find all nodes\n",
        "# # find() :find a single node, usually this is first node\n",
        "# # select() :finds according to the selector CSS Selector\n",
        "\n",
        "\n",
        "links = [movie.find_all('a') for movie in movies]\n",
        "# print(links)  <--- this will print all the links of movies\n",
        "\n",
        "num = 0       \n",
        "for anchor in links:\n",
        "  Product_Name = movies.find('h3').text\n",
        "  New_Price = movies.find('span',{'class': 'price_red-color text-nowrap'})\n",
        "  Old_Price=  movies.find('span',{'class': 'price_strike-through'})\n",
        "  discount = movies.find('span',{'class': 'price_red-color d-inline-block text-nowrap'})\n",
        "\n",
        "\n",
        "#Write the crawled data into Excel separately from the second row.\n",
        "  table.write(line, 0, num)\n",
        "  table.write(line, 1, Product_Name)\n",
        "  table.write(line, 2, New_Price.text)\n",
        "  table.write(line, 3, Old_Price.text[5:])\n",
        "  table.write(line, 3, discount.text[2:-5])\n",
        "  line += 1\n",
        "  \n",
        "#save the excel book\n",
        "  workbook.save('product details_guessfactory.xlsx')"
      ]
    },
    {
      "cell_type": "code",
      "source": [],
      "metadata": {
        "id": "cxuPe5zKzMLx"
      },
      "execution_count": null,
      "outputs": []
    }
  ]
}