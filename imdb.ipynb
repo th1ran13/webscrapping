{
  "nbformat": 4,
  "nbformat_minor": 0,
  "metadata": {
    "colab": {
      "provenance": [],
      "authorship_tag": "ABX9TyO4f4GIwiwA6LvdWV1Joh81",
      "include_colab_link": true
    },
    "kernelspec": {
      "name": "python3",
      "display_name": "Python 3"
    },
    "language_info": {
      "name": "python"
    }
  },
  "cells": [
    {
      "cell_type": "markdown",
      "metadata": {
        "id": "view-in-github",
        "colab_type": "text"
      },
      "source": [
        "<a href=\"https://colab.research.google.com/github/th1ran13/webscrapping/blob/main/imdb.ipynb\" target=\"_parent\"><img src=\"https://colab.research.google.com/assets/colab-badge.svg\" alt=\"Open In Colab\"/></a>"
      ]
    },
    {
      "cell_type": "code",
      "execution_count": null,
      "metadata": {
        "id": "iN_qcGwwDvAy"
      },
      "outputs": [],
      "source": [
        "import requests\n",
        "import lxml\n",
        "from bs4 import BeautifulSoup\n",
        "from xlwt import *\n",
        "\n",
        "url = 'https://www.imdb.com/chart/top/'\n",
        "headers = {'User-Agent': 'Mozilla/5.0 (iPad; CPU OS 12_2 like Mac OS X) AppleWebKit/605.1.15 (KHTML, like Gecko) Mobile/15E148'}\n",
        "f = requests.get(url, headers = headers)\n",
        "\n",
        "soup = BeautifulSoup(f.content, 'lxml') \n",
        "table = soup.find('table' , {'data-caller-name':\"chart-top250movie\"})\n",
        "tr = table.findAll('tr')\n",
        "#print(tr)\n",
        "movies_list = []\n",
        "num = 0\n",
        "\n",
        "workbook = Workbook(encoding = 'utf-8')\n",
        "table = workbook.add_sheet('data')\n",
        "table.write(0,0,'Rank')\n",
        "table.write(0,1,'Name')\n",
        "table.write(0,2,'Year')\n",
        "table.write(0,3,'URL')\n",
        "table.write(0,4,'Introduction')\n",
        "line = 1\n",
        "\n",
        "print(tr[0])\n",
        "\n",
        "for each_tr in tr:\n",
        "  td = each_tr.find_all('td' , class_ = 'titleColumn')\n",
        "  print(td)\n",
        "  for each_td in td:\n",
        "    ulink = each_td.a['href']\n",
        "    url = 'http://www.imdb.com'+ ulink\n",
        "    movies_list.append(url)\n",
        "    num += 1\n",
        "    movie_url = url\n",
        "    movie_f = requests.get(movie_url , headers = headers)\n",
        "    #print(movie_f)\n",
        "    movie_soup = BeautifulSoup(movie_f.content , 'lxml')\n",
        "    movie_content = movie_soup.find('span', {'data-testid':'plot-xl'})\n",
        "\n",
        "    movie_title = movie_soup.find('h1')\n",
        "\n",
        "    #print(num,url, '\\n','Movie:' +str(movie_tile))\n",
        "    #print('Movie info:' + movie_content.string.strip())\n",
        "\n",
        "    table.write(line, 0, num)\n",
        "    table.write(line, 1, url)\n",
        "    table.write(line, 2, movie_title.string.strip())\n",
        "    table.write(line, 3, movie_content.string.strip())\n",
        "    line += 1\n",
        "    workbook.save('movie_top100.xls')"
      ]
    },
    {
      "cell_type": "code",
      "source": [],
      "metadata": {
        "id": "4QxgZOafD-WD"
      },
      "execution_count": null,
      "outputs": []
    },
    {
      "cell_type": "code",
      "source": [],
      "metadata": {
        "id": "bEnheTZcEH4S"
      },
      "execution_count": null,
      "outputs": []
    },
    {
      "cell_type": "code",
      "source": [],
      "metadata": {
        "id": "p1HMM7DkEsXZ"
      },
      "execution_count": null,
      "outputs": []
    },
    {
      "cell_type": "code",
      "source": [],
      "metadata": {
        "id": "625v-e22Gv_Y"
      },
      "execution_count": 11,
      "outputs": []
    },
    {
      "cell_type": "code",
      "source": [],
      "metadata": {
        "id": "87diCG-mF2_S"
      },
      "execution_count": 11,
      "outputs": []
    },
    {
      "cell_type": "code",
      "source": [],
      "metadata": {
        "id": "vy3hqXp9H1pg"
      },
      "execution_count": null,
      "outputs": []
    }
  ]
}