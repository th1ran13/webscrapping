{
  "nbformat": 4,
  "nbformat_minor": 0,
  "metadata": {
    "colab": {
      "provenance": [],
      "authorship_tag": "ABX9TyM387UCIqKYcJferEUzXTbI",
      "include_colab_link": true
    },
    "kernelspec": {
      "name": "python3",
      "display_name": "Python 3"
    },
    "language_info": {
      "name": "python"
    }
  },
  "cells": [
    {
      "cell_type": "markdown",
      "metadata": {
        "id": "view-in-github",
        "colab_type": "text"
      },
      "source": [
        "<a href=\"https://colab.research.google.com/github/th1ran13/webscrapping/blob/main/odel_product.ipynb\" target=\"_parent\"><img src=\"https://colab.research.google.com/assets/colab-badge.svg\" alt=\"Open In Colab\"/></a>"
      ]
    },
    {
      "cell_type": "code",
      "execution_count": null,
      "metadata": {
        "id": "zaXsVOnNbEaD"
      },
      "outputs": [],
      "source": [
        "from bs4 import BeautifulSoup\n",
        "import requests\n",
        "import openpyxl\n",
        "import lxml"
      ]
    },
    {
      "cell_type": "code",
      "source": [
        "url = 'https://odel.lk/deal-products'\n",
        "\n",
        "excel = openpyxl.Workbook()\n",
        "sheet = excel.active\n",
        "sheet.title = 'Products'\n",
        "\n",
        "sheet.append(['Product No' , 'Product Name' , 'Old Price' , 'New Price' , 'Discount'])\n",
        "\n",
        "try:\n",
        "\n",
        "  source = requests.get(url)\n",
        "  #print(source)\n",
        "  soup = BeautifulSoup(source.content , 'lxml')\n",
        "  #print(soup)\n",
        "\n",
        "  products = soup.find_all('div' , class_ = 'block2')\n",
        "  #print(products)\n",
        "\n",
        "  for product in products:\n",
        "    product_name = product.find('div' , class_ = 'block2-txt-child1 flex-col-l').a.text.strip()\n",
        "    #print(product_name)\n",
        "    product_oldprice = product.find('del').text\n",
        "    #print(product_oldprice)\n",
        "    product_newprice = product.find('span' , class_ = 'stext-105 cl3').text.strip()\n",
        "    #print(product_newprice)\n",
        "    product_discount = product.find('div' , class_ = 'product_tag_discount').text\n",
        "    #print(product_discount)\n",
        "    product_no = product.find('div' , class_ = 'block2-pic hov-img0').a['href'].split('/')[-1]\n",
        "    #print(product_no)\n",
        "\n",
        "    sheet.append([product_no , product_name , product_oldprice , product_newprice , product_discount])\n",
        "except Exception as e:\n",
        "  print(e)\n",
        "\n",
        "excel.save('Odel Products.xlsx')"
      ],
      "metadata": {
        "id": "AXKPa7ChbRNL"
      },
      "execution_count": null,
      "outputs": []
    },
    {
      "cell_type": "code",
      "source": [],
      "metadata": {
        "id": "lpmTp8VkbcFw"
      },
      "execution_count": null,
      "outputs": []
    }
  ]
}