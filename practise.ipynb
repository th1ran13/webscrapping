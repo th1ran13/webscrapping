{
  "nbformat": 4,
  "nbformat_minor": 0,
  "metadata": {
    "colab": {
      "provenance": [],
      "authorship_tag": "ABX9TyOrnDnUeV/wCqDJhm550Dxt",
      "include_colab_link": true
    },
    "kernelspec": {
      "name": "python3",
      "display_name": "Python 3"
    },
    "language_info": {
      "name": "python"
    }
  },
  "cells": [
    {
      "cell_type": "markdown",
      "metadata": {
        "id": "view-in-github",
        "colab_type": "text"
      },
      "source": [
        "<a href=\"https://colab.research.google.com/github/th1ran13/webscrapping/blob/main/practise.ipynb\" target=\"_parent\"><img src=\"https://colab.research.google.com/assets/colab-badge.svg\" alt=\"Open In Colab\"/></a>"
      ]
    },
    {
      "cell_type": "code",
      "execution_count": 18,
      "metadata": {
        "id": "lNSU-nN8dKPl"
      },
      "outputs": [],
      "source": [
        "import requests\n",
        "import openpyxl\n",
        "from bs4 import BeautifulSoup\n",
        "import lxml\n",
        "\n",
        "url = 'https://nilsonline.lk/year-end-sale/sale-dresses'\n",
        "\n",
        "excel = openpyxl.Workbook()\n",
        "sheet = excel.active\n",
        "sheet.title = 'Products'\n",
        "sheet.append(['Product Name' , 'Old Price' ,'New Price'])"
      ]
    },
    {
      "cell_type": "code",
      "source": [
        "try:\n",
        "  source = requests.get(url)\n",
        "  #print(source)\n",
        "  soup = BeautifulSoup(source.content , 'lxml')\n",
        "  #print(soup)\n",
        "  products = soup.find_all('div' , class_ = 'caption')\n",
        "  #print(products)\n",
        "\n",
        "  for product in products:\n",
        "    product_name = product.h5.a.text\n",
        "    #print(product_name)\n",
        "    product_oldprice = product.find('span' , class_ = 'price-old').text\n",
        "    #print(product_oldprice)\n",
        "    product_newprice = product.find('span' , class_ = 'price-new').text\n",
        "    #print(product_newprice)\n",
        "\n",
        "    sheet.append([product_name,product_oldprice,product_newprice])\n",
        " \n",
        "except Exception as e:\n",
        "  print(e)\n",
        "\n",
        "excel.save('Product Details-Nilson.xlsx')"
      ],
      "metadata": {
        "colab": {
          "base_uri": "https://localhost:8080/"
        },
        "id": "UD9Uj015iOKO",
        "outputId": "987993f2-b79f-418a-edf8-1d3e698b4669"
      },
      "execution_count": 19,
      "outputs": [
        {
          "output_type": "stream",
          "name": "stdout",
          "text": [
            "'NoneType' object has no attribute 'text'\n"
          ]
        }
      ]
    },
    {
      "cell_type": "code",
      "source": [
        "\n"
      ],
      "metadata": {
        "id": "g5JsIkRpi2Zj"
      },
      "execution_count": null,
      "outputs": []
    }
  ]
}