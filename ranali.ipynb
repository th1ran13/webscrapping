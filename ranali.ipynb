{
  "cells": [
    {
      "cell_type": "markdown",
      "metadata": {
        "id": "view-in-github",
        "colab_type": "text"
      },
      "source": [
        "<a href=\"https://colab.research.google.com/github/th1ran13/webscrapping/blob/main/ranali.ipynb\" target=\"_parent\"><img src=\"https://colab.research.google.com/assets/colab-badge.svg\" alt=\"Open In Colab\"/></a>"
      ]
    },
    {
      "cell_type": "code",
      "execution_count": 2,
      "id": "cb263a70",
      "metadata": {
        "id": "cb263a70"
      },
      "outputs": [],
      "source": [
        "import requests\n",
        "import lxml\n",
        "from bs4 import BeautifulSoup\n",
        "from xlwt import *"
      ]
    },
    {
      "cell_type": "code",
      "execution_count": 3,
      "id": "44a06d87",
      "metadata": {
        "id": "44a06d87"
      },
      "outputs": [],
      "source": [
        "url = 'https://www.guessfactory.com/us/en/sale/women/view-all'"
      ]
    },
    {
      "cell_type": "code",
      "execution_count": 4,
      "id": "1ad706f7",
      "metadata": {
        "id": "1ad706f7"
      },
      "outputs": [],
      "source": [
        "headers = {'User-Agent':'Mozilla/5.0 (Macintosh; Intel Mac OS X 10_10_1) \\\n",
        "AppleWebKit/537.36 (KHTML, like Gecko) Chrome/39.0.2171.95 Safari/537.36'}\n",
        "\n",
        "f = requests.get(url,headers)"
      ]
    },
    {
      "cell_type": "code",
      "execution_count": 5,
      "id": "450d8ecb",
      "metadata": {
        "id": "450d8ecb"
      },
      "outputs": [],
      "source": [
        "workbook = Workbook(encoding= 'utf-8')\n",
        "table = workbook.add_sheet('data')\n",
        "table.write(0,0, 'Product Number')\n",
        "table.write(0,1, 'Product Name')\n",
        "table.write(0,2, 'New Price')\n",
        "table.write(0,3, 'Old Price')\n",
        "table.write(0,4, 'Discount')\n",
        "line = 1\n",
        "workbook.save('products_guessfactory.xls')"
      ]
    },
    {
      "cell_type": "code",
      "execution_count": 7,
      "id": "a88e4c7c",
      "metadata": {
        "colab": {
          "base_uri": "https://localhost:8080/",
          "height": 235
        },
        "id": "a88e4c7c",
        "outputId": "489088a5-5cba-4e5a-d838-4d4070e266c8"
      },
      "outputs": [
        {
          "output_type": "error",
          "ename": "AttributeError",
          "evalue": "ignored",
          "traceback": [
            "\u001b[0;31m---------------------------------------------------------------------------\u001b[0m",
            "\u001b[0;31mAttributeError\u001b[0m                            Traceback (most recent call last)",
            "\u001b[0;32m<ipython-input-7-512a1f5dc4d2>\u001b[0m in \u001b[0;36m<module>\u001b[0;34m\u001b[0m\n\u001b[1;32m      1\u001b[0m \u001b[0msoup\u001b[0m \u001b[0;34m=\u001b[0m \u001b[0mBeautifulSoup\u001b[0m\u001b[0;34m(\u001b[0m\u001b[0mf\u001b[0m\u001b[0;34m.\u001b[0m\u001b[0mcontent\u001b[0m\u001b[0;34m,\u001b[0m\u001b[0;34m'lxml'\u001b[0m\u001b[0;34m)\u001b[0m\u001b[0;34m\u001b[0m\u001b[0;34m\u001b[0m\u001b[0m\n\u001b[0;32m----> 2\u001b[0;31m \u001b[0mitems\u001b[0m \u001b[0;34m=\u001b[0m \u001b[0msoup\u001b[0m\u001b[0;34m.\u001b[0m\u001b[0mfind\u001b[0m\u001b[0;34m(\u001b[0m\u001b[0;34m'div'\u001b[0m\u001b[0;34m,\u001b[0m\u001b[0;34m{\u001b[0m\u001b[0;34m'class'\u001b[0m\u001b[0;34m:\u001b[0m \u001b[0;34m'row product-grid '\u001b[0m\u001b[0;34m}\u001b[0m\u001b[0;34m)\u001b[0m\u001b[0;34m.\u001b[0m\u001b[0mfindAll\u001b[0m\u001b[0;34m(\u001b[0m\u001b[0;34m'div'\u001b[0m\u001b[0;34m,\u001b[0m\u001b[0;34m{\u001b[0m\u001b[0;34m'class'\u001b[0m\u001b[0;34m:\u001b[0m\u001b[0;34m'product-grid__column'\u001b[0m\u001b[0;34m}\u001b[0m\u001b[0;34m)\u001b[0m\u001b[0;34m\u001b[0m\u001b[0;34m\u001b[0m\u001b[0m\n\u001b[0m\u001b[1;32m      3\u001b[0m \u001b[0mlinks\u001b[0m \u001b[0;34m=\u001b[0m \u001b[0;34m[\u001b[0m\u001b[0mitem\u001b[0m\u001b[0;34m.\u001b[0m\u001b[0mfind_all\u001b[0m\u001b[0;34m(\u001b[0m\u001b[0;34m'a'\u001b[0m\u001b[0;34m)\u001b[0m \u001b[0;32mfor\u001b[0m \u001b[0mitem\u001b[0m \u001b[0;32min\u001b[0m \u001b[0mitems\u001b[0m\u001b[0;34m]\u001b[0m\u001b[0;34m\u001b[0m\u001b[0;34m\u001b[0m\u001b[0m\n\u001b[1;32m      4\u001b[0m \u001b[0mprint\u001b[0m\u001b[0;34m(\u001b[0m\u001b[0mlen\u001b[0m\u001b[0;34m(\u001b[0m\u001b[0mlinks\u001b[0m\u001b[0;34m)\u001b[0m\u001b[0;34m)\u001b[0m\u001b[0;34m\u001b[0m\u001b[0;34m\u001b[0m\u001b[0m\n\u001b[1;32m      5\u001b[0m \u001b[0mprint\u001b[0m\u001b[0;34m(\u001b[0m\u001b[0mlinks\u001b[0m\u001b[0;34m)\u001b[0m\u001b[0;34m\u001b[0m\u001b[0;34m\u001b[0m\u001b[0m\n",
            "\u001b[0;31mAttributeError\u001b[0m: 'NoneType' object has no attribute 'findAll'"
          ]
        }
      ],
      "source": [
        "soup = BeautifulSoup(f.content,'lxml')\n",
        "items = soup.find('div',{'class': 'row product-grid '}).findAll('div',{'class':'product-grid__column'})\n",
        "links = [item.find_all('a') for item in items]\n",
        "print(len(links))\n",
        "print(links)\n",
        "\n",
        "print(len(items))"
      ]
    },
    {
      "cell_type": "code",
      "execution_count": null,
      "id": "14e282db",
      "metadata": {
        "id": "14e282db"
      },
      "outputs": [],
      "source": [
        "item_lst = []\n",
        "num = 0"
      ]
    },
    {
      "cell_type": "code",
      "execution_count": null,
      "id": "389801c4",
      "metadata": {
        "id": "389801c4"
      },
      "outputs": [],
      "source": [
        "for anchor in links:\n",
        "    urls = anchor[0]['href']\n",
        "    item_lst.append(urls)\n",
        "    num += 1\n",
        "    item_url = urls\n",
        "    product = requests.get(item_url, headers = headers)\n",
        "    item_soup = BeautifulSoup(product.content, 'lxml')\n",
        "    \n",
        "    item_name = item_soup.find('div',{'class':'product-name product-detail__name text--semibold mt-2 mt-md-0 mb-0'})\n",
        "    item_newPrice = item_soup.find('span',{'class':'stext-105 cl3'})\n",
        "    item_oldPrice = item_soup.find('span',{'class':'value price__value price__value--sale'})\n",
        "    item_discount = item.find('span',{'class':'price__red-color d-inline-block text-nowrap'}) \n",
        "    \n",
        "#     print(item_name.string.strip())\n",
        "#     print(item_newPrice.string.strip())\n",
        "#     print(item_oldPrice.string.strip())\n",
        "#     print(item_discount.string.strip())\n",
        "\n",
        "    table.write(line, 0, num)\n",
        "    table.write(line, 1, item_name.string.strip())\n",
        "    table.write(line, 2, item_newPrice.string.strip())\n",
        "    table.write(line, 3, item_oldPrice.string.strip())\n",
        "    table.write(line, 4, item_discount.string.strip())\n",
        "    line += 1\n",
        "    workbook.save('Products.xls')"
      ]
    }
  ],
  "metadata": {
    "kernelspec": {
      "display_name": "Python 3 (ipykernel)",
      "language": "python",
      "name": "python3"
    },
    "language_info": {
      "codemirror_mode": {
        "name": "ipython",
        "version": 3
      },
      "file_extension": ".py",
      "mimetype": "text/x-python",
      "name": "python",
      "nbconvert_exporter": "python",
      "pygments_lexer": "ipython3",
      "version": "3.9.12"
    },
    "colab": {
      "provenance": [],
      "include_colab_link": true
    }
  },
  "nbformat": 4,
  "nbformat_minor": 5
}