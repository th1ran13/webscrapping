{
  "nbformat": 4,
  "nbformat_minor": 0,
  "metadata": {
    "colab": {
      "provenance": [],
      "authorship_tag": "ABX9TyNkdth2oeMzGToonGujV0om",
      "include_colab_link": true
    },
    "kernelspec": {
      "name": "python3",
      "display_name": "Python 3"
    },
    "language_info": {
      "name": "python"
    }
  },
  "cells": [
    {
      "cell_type": "markdown",
      "metadata": {
        "id": "view-in-github",
        "colab_type": "text"
      },
      "source": [
        "<a href=\"https://colab.research.google.com/github/th1ran13/webscrapping/blob/main/webscrappingtry.ipynb\" target=\"_parent\"><img src=\"https://colab.research.google.com/assets/colab-badge.svg\" alt=\"Open In Colab\"/></a>"
      ]
    },
    {
      "cell_type": "code",
      "execution_count": null,
      "metadata": {
        "id": "OU0uHVyM24Na"
      },
      "outputs": [],
      "source": [
        "import requests\n",
        "import openpyxl\n",
        "import lxml\n",
        "from bs4 import BeautifulSoup"
      ]
    },
    {
      "cell_type": "code",
      "source": [
        "excel = openpyxl.Workbook()\n",
        "sheet = excel.active\n",
        "sheet.title = 'Top Fantacy Movies'\n",
        "sheet.append(['Movie Name' , 'Year' , 'RT' , 'Directed By'])\n",
        "\n",
        "\n",
        "url = 'https://editorial.rottentomatoes.com/guide/best-fantasy-movies-of-all-time/'\n",
        "headers = {'User-Agent': 'Mozilla/5.0 (iPad; CPU OS 12_2 like Mac OS X) AppleWebKit/605.1.15 (KHTML, like Gecko) Mobile/15E148'}\n",
        "\n",
        "try:\n",
        "  source = requests.get(url)\n",
        "  soup = BeautifulSoup(source.content , 'html.parser')\n",
        "  #print(soup)\n",
        "\n",
        "  movies = soup.findAll('div' , class_ = 'col-sm-18 col-full-xs countdown-item-content')\n",
        "  #print(movies)\n",
        "  print(movies[0])\n",
        "  #first = movies[0]\n",
        "  #print(first.h2.span)\n",
        "  for movie in movies:\n",
        "    movie_name = movie.find('div' , class_ = 'article_movie_title').h2.text\n",
        "    #print(movie_name)\n",
        "    movie_year = movie.find('span' , class_ = 'subtle start-year').text.strip('()')\n",
        "    #print(movie_year)\n",
        "except Exception as e:\n",
        "  print(e)\n"
      ],
      "metadata": {
        "id": "gmyuQ5y28m6P",
        "colab": {
          "base_uri": "https://localhost:8080/"
        },
        "outputId": "e470f58f-60f4-4865-a0d8-981b414a017e"
      },
      "execution_count": null,
      "outputs": [
        {
          "output_type": "stream",
          "name": "stdout",
          "text": [
            "<div class=\"col-sm-18 col-full-xs countdown-item-content\">\n",
            "<div class=\"row countdown-item-title-bar\">\n",
            "<div class=\"col-sm-20 col-full-xs\" style=\"height: 100%;\">\n",
            "<div class=\"article_movie_title\" style=\"float: left;\">\n",
            "<div><h2><a href=\"https://www.rottentomatoes.com/m/the-fall-2008\">The Fall</a> <span class=\"subtle start-year\">(2006)</span> </h2></div></div></div></div></div>\n"
          ]
        }
      ]
    },
    {
      "cell_type": "code",
      "source": [
        "excel = openpyxl.Workbook()\n",
        "sheet = excel.active\n",
        "sheet.title = 'Top Fantacy Movies'\n",
        "sheet.append(['Movie Name' , 'Year' , 'RT'])\n",
        "\n",
        "\n",
        "url = 'https://www.imdb.com/search/title/?groups=top_100&sort=user_rating,desc'\n",
        "headers = {'User-Agent': 'Mozilla/5.0 (iPad; CPU OS 12_2 like Mac OS X) AppleWebKit/605.1.15 (KHTML, like Gecko) Mobile/15E148'}\n",
        "\n",
        "try:\n",
        "  source = requests.get(url)\n",
        "  soup = BeautifulSoup(source.content , 'html.parser')\n",
        "  #print(soup)\n",
        "\n",
        "  movies = soup.findAll('div' , class_ = 'lister-item mode-advanced')\n",
        "  #print(movies)\n",
        "  #print(movies[0])\n",
        "  #first = movies[0]\n",
        "  #print(first.h2.span)\n",
        "  for movie in movies:\n",
        "    movie_name = movie.find('div' , class_ ='lister-item-content').h3.a.text\n",
        "    #print(movie_name)\n",
        "    movie_year = movie.find('span' , class_ ='lister-item-year text-muted unbold').text.strip('()')\n",
        "    #print(movie_year)\n",
        "    movie_rate = movie.find('div' , class_ = 'ratings-bar').strong.text\n",
        "    #print(movie_rate)\n",
        "\n",
        "    #print(movie_name , movie_year , movie_rate)\n",
        "    sheet.append([movie_name , movie_year , movie_rate])\n",
        "except Exception as e:\n",
        "  print(e)\n",
        "\n",
        "\n",
        "excel.save('IMDb Top 100 Movies.xlsx')\n"
      ],
      "metadata": {
        "colab": {
          "base_uri": "https://localhost:8080/"
        },
        "id": "Hs-CsXsMyVcp",
        "outputId": "4a400bd6-b0ab-411b-95e7-fbdaa6f3fbda"
      },
      "execution_count": 105,
      "outputs": [
        {
          "output_type": "stream",
          "name": "stdout",
          "text": [
            "The Shawshank Redemption 1994 9.3\n",
            "The Godfather 1972 9.2\n",
            "The Dark Knight 2008 9.0\n",
            "The Lord of the Rings: The Return of the King 2003 9.0\n",
            "Schindler's List 1993 9.0\n",
            "The Godfather Part II 1974 9.0\n",
            "12 Angry Men 1957 9.0\n",
            "Pulp Fiction 1994 8.9\n",
            "Inception 2010 8.8\n",
            "The Lord of the Rings: The Two Towers 2002 8.8\n",
            "Fight Club 1999 8.8\n",
            "The Lord of the Rings: The Fellowship of the Ring 2001 8.8\n",
            "Forrest Gump 1994 8.8\n",
            "The Good, the Bad and the Ugly 1966 8.8\n",
            "The Matrix 1999 8.7\n",
            "Goodfellas 1990 8.7\n",
            "Star Wars: Episode V - The Empire Strikes Back 1980 8.7\n",
            "One Flew Over the Cuckoo's Nest 1975 8.7\n",
            "Interstellar 2014 8.6\n",
            "City of God 2002 8.6\n",
            "Spirited Away 2001 8.6\n",
            "Saving Private Ryan 1998 8.6\n",
            "The Green Mile 1999 8.6\n",
            "Life Is Beautiful 1997 8.6\n",
            "Se7en 1995 8.6\n",
            "Terminator 2: Judgment Day 1991 8.6\n",
            "The Silence of the Lambs 1991 8.6\n",
            "Star Wars 1977 8.6\n",
            "Harakiri 1962 8.6\n",
            "Seven Samurai 1954 8.6\n",
            "It's a Wonderful Life 1946 8.6\n",
            "Parasite 2019 8.5\n",
            "Whiplash 2014 8.5\n",
            "The Intouchables 2011 8.5\n",
            "The Prestige 2006 8.5\n",
            "The Departed 2006 8.5\n",
            "The Pianist 2002 8.5\n",
            "Gladiator 2000 8.5\n",
            "American History X 1998 8.5\n",
            "The Usual Suspects 1995 8.5\n",
            "Léon: The Professional 1994 8.5\n",
            "The Lion King 1994 8.5\n",
            "Cinema Paradiso 1988 8.5\n",
            "Grave of the Fireflies 1988 8.5\n",
            "Back to the Future 1985 8.5\n",
            "Apocalypse Now 1979 8.5\n",
            "Alien 1979 8.5\n",
            "Once Upon a Time in the West 1968 8.5\n",
            "Psycho 1960 8.5\n",
            "Rear Window 1954 8.5\n"
          ]
        }
      ]
    },
    {
      "cell_type": "code",
      "source": [],
      "metadata": {
        "id": "Y4gC6K9wyYYa"
      },
      "execution_count": null,
      "outputs": []
    },
    {
      "cell_type": "code",
      "source": [],
      "metadata": {
        "id": "rmIdHCh3yYVl"
      },
      "execution_count": null,
      "outputs": []
    },
    {
      "cell_type": "code",
      "source": [],
      "metadata": {
        "id": "k_JkzCP1yYTA"
      },
      "execution_count": null,
      "outputs": []
    },
    {
      "cell_type": "code",
      "source": [],
      "metadata": {
        "id": "oKI8h2nfyYQp"
      },
      "execution_count": null,
      "outputs": []
    },
    {
      "cell_type": "code",
      "source": [],
      "metadata": {
        "id": "TuZTuU3fyYOA"
      },
      "execution_count": null,
      "outputs": []
    },
    {
      "cell_type": "code",
      "source": [],
      "metadata": {
        "id": "n_PhM482yYMD"
      },
      "execution_count": null,
      "outputs": []
    },
    {
      "cell_type": "code",
      "source": [],
      "metadata": {
        "id": "FJ2doBEQyYJz"
      },
      "execution_count": null,
      "outputs": []
    },
    {
      "cell_type": "code",
      "source": [],
      "metadata": {
        "id": "AQV36rtlyYHM"
      },
      "execution_count": null,
      "outputs": []
    },
    {
      "cell_type": "code",
      "source": [],
      "metadata": {
        "id": "hXEPDH_iyYEp"
      },
      "execution_count": null,
      "outputs": []
    },
    {
      "cell_type": "code",
      "source": [],
      "metadata": {
        "id": "1Ey-C9zNyYCU"
      },
      "execution_count": null,
      "outputs": []
    },
    {
      "cell_type": "code",
      "source": [],
      "metadata": {
        "id": "UPZB_kgAyX_4"
      },
      "execution_count": null,
      "outputs": []
    },
    {
      "cell_type": "code",
      "source": [],
      "metadata": {
        "id": "-P9V2gEbyX9I"
      },
      "execution_count": null,
      "outputs": []
    },
    {
      "cell_type": "code",
      "source": [],
      "metadata": {
        "id": "9ABvZhxwyX6Q"
      },
      "execution_count": null,
      "outputs": []
    },
    {
      "cell_type": "code",
      "source": [
        "excel = openpyxl.Workbook()\n",
        "sheet = excel.active\n",
        "sheet.title = \"Product Details\"\n",
        "sheet.append(['Product Name' , 'New Price' , 'Old Price' , 'Discount'])\n",
        "\n",
        "try:\n",
        "  source = requests.get(url)\n",
        "  #source.raise_for_status()\n",
        "\n",
        "  soup = BeautifulSoup(source.content , \"html.parser\")\n",
        "  #print(soup)\n",
        "\n",
        "  products = soup.find_all('div' , class_ = 'product-tile__tile-body')\n",
        "  #print(products)\n",
        "\n",
        "  for product in products:\n",
        "    product_name = product.find('a' , class_ = \"titleColumn\").text\n",
        "    print(product_name)  \n",
        "except Exception as e:\n",
        "  print(e)"
      ],
      "metadata": {
        "id": "vj0QeaLT8r6c"
      },
      "execution_count": null,
      "outputs": []
    },
    {
      "cell_type": "code",
      "source": [],
      "metadata": {
        "id": "ZmpbE0cf9y60",
        "colab": {
          "base_uri": "https://localhost:8080/"
        },
        "outputId": "ebaf3e89-bae7-4f5c-d962-1c87842c651d"
      },
      "execution_count": null,
      "outputs": [
        {
          "output_type": "stream",
          "name": "stdout",
          "text": [
            "<Response [403]>\n"
          ]
        }
      ]
    },
    {
      "cell_type": "code",
      "source": [],
      "metadata": {
        "id": "kGrXP0YRxE0Z"
      },
      "execution_count": null,
      "outputs": []
    }
  ]
}